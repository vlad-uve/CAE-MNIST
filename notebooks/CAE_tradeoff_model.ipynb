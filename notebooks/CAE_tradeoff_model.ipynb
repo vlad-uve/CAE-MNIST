{
  "nbformat": 4,
  "nbformat_minor": 0,
  "metadata": {
    "colab": {
      "provenance": [],
      "gpuType": "T4",
      "authorship_tag": "ABX9TyMBvf3kBEwWX1xCEWv06EqA",
      "include_colab_link": true
    },
    "kernelspec": {
      "name": "python3",
      "display_name": "Python 3"
    },
    "language_info": {
      "name": "python"
    },
    "accelerator": "GPU"
  },
  "cells": [
    {
      "cell_type": "markdown",
      "metadata": {
        "id": "view-in-github",
        "colab_type": "text"
      },
      "source": [
        "<a href=\"https://colab.research.google.com/github/vlad-uve/CAE-MNIST/blob/main/notebooks/CAE_tradeoff_model.ipynb\" target=\"_parent\"><img src=\"https://colab.research.google.com/assets/colab-badge.svg\" alt=\"Open In Colab\"/></a>"
      ]
    },
    {
      "cell_type": "markdown",
      "source": [
        "## Clone Git Repo"
      ],
      "metadata": {
        "id": "ou5ydMiCYAxb"
      }
    },
    {
      "cell_type": "code",
      "execution_count": null,
      "metadata": {
        "colab": {
          "base_uri": "https://localhost:8080/"
        },
        "id": "RXNIZ0g2U8R2",
        "outputId": "ed174d24-ad71-4e87-88fd-5f6770fa2e1f"
      },
      "outputs": [
        {
          "output_type": "stream",
          "name": "stdout",
          "text": [
            "Paste your GitHub token··········\n",
            "Cloning into 'CAE-MNIST'...\n",
            "remote: Enumerating objects: 685, done.\u001b[K\n",
            "remote: Counting objects: 100% (218/218), done.\u001b[K\n",
            "remote: Compressing objects: 100% (189/189), done.\u001b[K\n",
            "remote: Total 685 (delta 122), reused 75 (delta 29), pack-reused 467 (from 1)\u001b[K\n",
            "Receiving objects: 100% (685/685), 22.76 MiB | 21.23 MiB/s, done.\n",
            "Resolving deltas: 100% (353/353), done.\n"
          ]
        }
      ],
      "source": [
        "from getpass import getpass\n",
        "\n",
        "token = getpass(\"Paste your GitHub token\")\n",
        "\n",
        "user_name = 'vlad-uve'\n",
        "repo_name = 'CAE-MNIST'\n",
        "repo_url = f\"https://{token}@github.com/{user_name}/{repo_name}.git\"\n",
        "\n",
        "!git config --global user.email \"vladislav.yushkevich.uve@gmail.com\"\n",
        "!git config --global user.name \"vlad_uve\"\n",
        "\n",
        "!git clone {repo_url}\n",
        "\n",
        "#Append system path\n",
        "import sys\n",
        "sys.path.append('/content/CAE-MNIST')"
      ]
    },
    {
      "cell_type": "code",
      "source": [
        "# import core model components\n",
        "from src.model import AutoEncoder, Encoder, Decoder\n",
        "\n",
        "# import training utilities\n",
        "from src.train import train_model, validate_model, run_model_training\n",
        "\n",
        "# import data loading functions\n",
        "from src.data import get_train_dataloader, get_validation_dataloader\n",
        "\n",
        "# import evaluation helpers\n",
        "from src.evaluation import get_experiment_reconstructions, get_image_samples\n",
        "\n",
        "# import plotting functions\n",
        "from src.plotting import plot_digits_row, plot_experiment_reconstructions, plot_experiment_history, disply_reconstruction_images\n",
        "\n",
        "# import exporting functions\n",
        "from src.export import save_experiment_files, export_experiment_files"
      ],
      "metadata": {
        "id": "0LVdQehJW1qG"
      },
      "execution_count": null,
      "outputs": []
    },
    {
      "cell_type": "code",
      "execution_count": null,
      "metadata": {
        "id": "QDlPz8edehwE"
      },
      "outputs": [],
      "source": [
        "# OS and file utilities\n",
        "import os\n",
        "import shutil\n",
        "\n",
        "# PyTorch core modules\n",
        "import torch\n",
        "import torch.nn as nn\n",
        "import torch.nn.functional as F\n",
        "import torch.optim as optim\n",
        "\n",
        "# Data loading and transformations\n",
        "from torch.utils.data import DataLoader\n",
        "from torchvision import datasets, transforms\n",
        "\n",
        "# Model summary utility\n",
        "from torchsummary import summary\n",
        "\n",
        "# Learning rate scheduler\n",
        "from torch.optim.lr_scheduler import ReduceLROnPlateau\n",
        "\n",
        "# Plotting\n",
        "import matplotlib.pyplot as plt\n",
        "\n",
        "# Import utility to display images directly in notebook\n",
        "from IPython.display import Image, display"
      ]
    },
    {
      "cell_type": "code",
      "source": [
        "# set device to GPU if available, otherwise use CPU\n",
        "device = torch.device('cuda' if torch.cuda.is_available() else 'cpu')\n",
        "\n",
        "# set random seed for reproducibility\n",
        "torch.manual_seed(0)"
      ],
      "metadata": {
        "colab": {
          "base_uri": "https://localhost:8080/"
        },
        "outputId": "9fed42e1-488d-4d71-bc50-d691ae11b11d",
        "id": "jW3wDUktehwE"
      },
      "execution_count": null,
      "outputs": [
        {
          "output_type": "execute_result",
          "data": {
            "text/plain": [
              "<torch._C.Generator at 0x7dd4c864f050>"
            ]
          },
          "metadata": {},
          "execution_count": 4
        }
      ]
    },
    {
      "cell_type": "markdown",
      "source": [
        "## Define New Class"
      ],
      "metadata": {
        "id": "NyTnfo49RBAc"
      }
    },
    {
      "cell_type": "code",
      "source": [
        "class ShallowEncoder(Encoder):\n",
        "    def _build_layers(self):\n",
        "        # 2-layer encoder architecture\n",
        "        self.encn1 = nn.Conv2d(1, self.n_channels[0], self.kernel[0], self.stride, self.padding)\n",
        "        self.encn2 = nn.Conv2d(self.n_channels[0], self.n_channels[1], self.kernel[1], self.stride, self.padding)\n",
        "\n",
        "        # optional batch normalization layers after each conv\n",
        "        if self.use_batch_norm:\n",
        "            self.bn1 = nn.BatchNorm2d(self.n_channels[0])\n",
        "            self.bn2 = nn.BatchNorm2d(self.n_channels[1])\n",
        "        else:\n",
        "            self.bn1 = self.bn2 = nn.Identity()\n",
        "\n",
        "        # flatten and fully connected bottleneck layer\n",
        "        # assumes output is 7x7 after 2 conv layers on 28x28 input\n",
        "        self.flatten = nn.Flatten()\n",
        "        self.fc1 = nn.Linear(self.n_channels[1] * 7 * 7, self.latent_dim)\n",
        "\n",
        "    def forward(self, input_x):\n",
        "        x = self.apply_activation(self.bn1(self.encn1(input_x)))\n",
        "        x = self.apply_activation(self.bn2(self.encn2(x)))\n",
        "        return self.fc1(self.flatten(x))\n",
        "\n",
        "\n",
        "\n",
        "class ShallowDecoder(Decoder):\n",
        "    def _build_layers(self):\n",
        "        # fully connected + unflatten to prepare for decoding\n",
        "        self.fc1 = nn.Linear(self.latent_dim, self.n_channels[1] * 7 * 7)\n",
        "        self.unflatten = nn.Unflatten(1, (self.n_channels[1], 7, 7))\n",
        "\n",
        "        # 2-layer decoder architecture (reverse of encoder)\n",
        "        self.decn1 = nn.ConvTranspose2d(self.n_channels[1], self.n_channels[0], self.kernel[1], self.stride, self.padding)\n",
        "        self.decn2 = nn.ConvTranspose2d(self.n_channels[0], 1, self.kernel[0], self.stride, self.padding)\n",
        "\n",
        "        # optional batch normalization\n",
        "        if self.use_batch_norm:\n",
        "            self.bn1 = nn.BatchNorm2d(self.n_channels[1])\n",
        "        else:\n",
        "            self.bn1 = nn.Identity()\n",
        "\n",
        "    def forward(self, encoded):\n",
        "        x = self.unflatten(self.fc1(encoded))\n",
        "        x = self.apply_activation(self.bn1(self.decn1(x)))\n",
        "        x = self.decn2(x)\n",
        "        return torch.sigmoid(x)  # use torch.sigmoid, not F.sigmoid\n",
        "\n",
        "\n",
        "\n",
        "class ShallowAutoEncoder(nn.Module):\n",
        "    def __init__(self, n_channels, latent_dim, use_batch_norm=False, activation_func='relu', leaky_relu_slope=0.2):\n",
        "        super(ShallowAutoEncoder, self).__init__()\n",
        "\n",
        "        kernel = [4, 4]\n",
        "        stride = 2\n",
        "        padding = 1\n",
        "\n",
        "        self.encoder = ShallowEncoder(n_channels, latent_dim, kernel, stride, padding,\n",
        "                                      use_batch_norm, activation_func, leaky_relu_slope)\n",
        "        self.decoder = ShallowDecoder(n_channels, latent_dim, kernel, stride, padding,\n",
        "                                      use_batch_norm, activation_func, leaky_relu_slope)\n",
        "\n",
        "    def forward(self, input_x):\n",
        "        encoded_x = self.encoder(input_x)\n",
        "        decoded_x = self.decoder(encoded_x)\n",
        "        return decoded_x, encoded_x"
      ],
      "metadata": {
        "id": "8Kbnf1mURADE"
      },
      "execution_count": null,
      "outputs": []
    },
    {
      "cell_type": "code",
      "source": [
        "# define trade-off model parameters\n",
        "tradeoff_n_channels = [32, 32]\n",
        "tradeoff_latent_dim = 16\n",
        "tradeoff_train_batch_size = 32\n",
        "tradeoff_validation_batch_size = 500\n",
        "tradeoff_num_epoch = 20\n",
        "\n",
        "# initialize dataloaders for the trade-off model\n",
        "tradeoff_train_dataloader = get_train_dataloader(\n",
        "    batch_size=tradeoff_train_batch_size,\n",
        "    data_dir='../data'\n",
        ")\n",
        "\n",
        "tradeoff_validation_dataloader = get_validation_dataloader(\n",
        "    batch_size=tradeoff_validation_batch_size,\n",
        "    data_dir='../data'\n",
        ")"
      ],
      "metadata": {
        "colab": {
          "base_uri": "https://localhost:8080/"
        },
        "id": "211s5LyYXE1l",
        "outputId": "4b2d149e-fcf6-4fd9-bd9c-a1f1e039f28c"
      },
      "execution_count": null,
      "outputs": [
        {
          "output_type": "stream",
          "name": "stderr",
          "text": [
            "100%|██████████| 9.91M/9.91M [00:00<00:00, 16.4MB/s]\n",
            "100%|██████████| 28.9k/28.9k [00:00<00:00, 493kB/s]\n",
            "100%|██████████| 1.65M/1.65M [00:00<00:00, 4.55MB/s]\n",
            "100%|██████████| 4.54k/4.54k [00:00<00:00, 6.08MB/s]\n"
          ]
        }
      ]
    },
    {
      "cell_type": "code",
      "source": [
        "tradeoff_model = ShallowAutoEncoder(\n",
        "    n_channels=tradeoff_n_channels,\n",
        "    latent_dim=tradeoff_latent_dim\n",
        ").to(device)\n",
        "\n",
        "tradeoff_optimizer = optim.Adam(tradeoff_model.parameters(), lr=1e-3)\n",
        "tradeoff_scheduler = ReduceLROnPlateau(tradeoff_optimizer, mode='min', threshold=1e-4, patience=3, factor=0.5)"
      ],
      "metadata": {
        "id": "X90HYOiWXZ54"
      },
      "execution_count": null,
      "outputs": []
    },
    {
      "cell_type": "code",
      "source": [
        "print(summary(tradeoff_model, input_size=(1,28,28)))"
      ],
      "metadata": {
        "colab": {
          "base_uri": "https://localhost:8080/"
        },
        "id": "LpvtDGh1dfMt",
        "outputId": "954cb98f-1a71-4c83-d876-a598ce5a907b"
      },
      "execution_count": null,
      "outputs": [
        {
          "output_type": "stream",
          "name": "stdout",
          "text": [
            "----------------------------------------------------------------\n",
            "        Layer (type)               Output Shape         Param #\n",
            "================================================================\n",
            "            Conv2d-1           [-1, 32, 14, 14]             544\n",
            "          Identity-2           [-1, 32, 14, 14]               0\n",
            "            Conv2d-3             [-1, 32, 7, 7]          16,416\n",
            "          Identity-4             [-1, 32, 7, 7]               0\n",
            "           Flatten-5                 [-1, 1568]               0\n",
            "            Linear-6                   [-1, 16]          25,104\n",
            "    ShallowEncoder-7                   [-1, 16]               0\n",
            "            Linear-8                 [-1, 1568]          26,656\n",
            "         Unflatten-9             [-1, 32, 7, 7]               0\n",
            "  ConvTranspose2d-10           [-1, 32, 14, 14]          16,416\n",
            "         Identity-11           [-1, 32, 14, 14]               0\n",
            "  ConvTranspose2d-12            [-1, 1, 28, 28]             513\n",
            "   ShallowDecoder-13            [-1, 1, 28, 28]               0\n",
            "================================================================\n",
            "Total params: 85,649\n",
            "Trainable params: 85,649\n",
            "Non-trainable params: 0\n",
            "----------------------------------------------------------------\n",
            "Input size (MB): 0.00\n",
            "Forward/backward pass size (MB): 0.26\n",
            "Params size (MB): 0.33\n",
            "Estimated Total Size (MB): 0.59\n",
            "----------------------------------------------------------------\n",
            "None\n"
          ]
        }
      ]
    },
    {
      "cell_type": "code",
      "source": [
        "# define trade-off model description: balanced configuration\n",
        "tradeoff_model_description = \"\"\"\n",
        "Trade-off Model: lightweight CAE configuration based on experimental findings\n",
        "\n",
        "Final architecture:\n",
        "- Number of encoding/decoding layers: 2\n",
        "- Convolutional filters: [32, 32]\n",
        "- Latent dimension: 16\n",
        "- Activation function: ReLU\n",
        "- Batch Normalization: None\n",
        "- Optimizer: Adam (lr = 1e-3)\n",
        "- Scheduler: ReduceLROnPlateau (patience = 3, factor = 0.5, threshold = 1e-3)\n",
        "- Training epochs: 20\n",
        "- Train batch size: 32\n",
        "- Validation batch size: 500\n",
        "\n",
        "\"\"\"\n",
        "print(tradeoff_model_description.strip())"
      ],
      "metadata": {
        "colab": {
          "base_uri": "https://localhost:8080/"
        },
        "id": "urgN7SUaWhJy",
        "outputId": "1b86592e-02a5-4e47-ca4c-a33e4e1c5f03"
      },
      "execution_count": null,
      "outputs": [
        {
          "output_type": "stream",
          "name": "stdout",
          "text": [
            "Trade-off Model: lightweight CAE configuration based on experimental findings\n",
            "\n",
            "Final architecture:\n",
            "- Number of encoding/decoding layers: 2\n",
            "- Convolutional filters: [32, 32]\n",
            "- Latent dimension: 16\n",
            "- Activation function: ReLU\n",
            "- Batch Normalization: None\n",
            "- Optimizer: Adam (lr = 1e-3)\n",
            "- Scheduler: ReduceLROnPlateau (patience = 3, factor = 0.5, threshold = 1e-3)\n",
            "- Training epochs: 20\n",
            "- Train batch size: 32\n",
            "- Validation batch size: 500\n"
          ]
        }
      ]
    },
    {
      "cell_type": "code",
      "source": [
        "# train model\n",
        "tradeoff_model, tradeoff_loss = run_model_training(\n",
        "    model=tradeoff_model,\n",
        "    train_dataloader=tradeoff_train_dataloader,\n",
        "    validation_dataloader=tradeoff_validation_dataloader,\n",
        "    optimizer=tradeoff_optimizer,\n",
        "    scheduler=tradeoff_scheduler,\n",
        "    num_epoch=tradeoff_num_epoch,\n",
        "    device=device\n",
        ")"
      ],
      "metadata": {
        "colab": {
          "base_uri": "https://localhost:8080/"
        },
        "id": "M95iFr0YYq68",
        "outputId": "c46d5917-d898-4e25-debb-103610eed3be"
      },
      "execution_count": null,
      "outputs": [
        {
          "output_type": "stream",
          "name": "stdout",
          "text": [
            "\n",
            "TRAINING IS STARTED:\n",
            "Epoch  1 | Train Loss: 0.0956 | Validation Loss: 0.0988\n",
            "Epoch  2 | Train Loss: 0.0924 | Validation Loss: 0.0935\n",
            "Epoch  3 | Train Loss: 0.1045 | Validation Loss: 0.0907\n",
            "Epoch  4 | Train Loss: 0.0885 | Validation Loss: 0.0894\n",
            "Epoch  5 | Train Loss: 0.0933 | Validation Loss: 0.0888\n",
            "Epoch  6 | Train Loss: 0.0853 | Validation Loss: 0.0878\n",
            "Epoch  7 | Train Loss: 0.0857 | Validation Loss: 0.0874\n",
            "Epoch  8 | Train Loss: 0.0904 | Validation Loss: 0.0870\n",
            "Epoch  9 | Train Loss: 0.0820 | Validation Loss: 0.0865\n",
            "Epoch 10 | Train Loss: 0.0921 | Validation Loss: 0.0864\n",
            "Epoch 11 | Train Loss: 0.0823 | Validation Loss: 0.0861\n",
            "Epoch 12 | Train Loss: 0.0905 | Validation Loss: 0.0860\n",
            "Epoch 13 | Train Loss: 0.0888 | Validation Loss: 0.0856\n",
            "Epoch 14 | Train Loss: 0.0902 | Validation Loss: 0.0854\n",
            "Epoch 15 | Train Loss: 0.0823 | Validation Loss: 0.0855\n",
            "Epoch 16 | Train Loss: 0.0940 | Validation Loss: 0.0851\n",
            "Epoch 17 | Train Loss: 0.0774 | Validation Loss: 0.0852\n",
            "Epoch 18 | Train Loss: 0.0768 | Validation Loss: 0.0849\n",
            "Epoch 19 | Train Loss: 0.0883 | Validation Loss: 0.0848\n",
            "Epoch 20 | Train Loss: 0.0891 | Validation Loss: 0.0849\n",
            "\n",
            "TRAINING IS FINISHED.\n"
          ]
        }
      ]
    },
    {
      "cell_type": "code",
      "source": [
        "# import base loss\n",
        "base_loss = torch.load('/content/CAE-MNIST/outputs/base_model_files/base_loss.pth')"
      ],
      "metadata": {
        "id": "xgLCi8IAqwh1"
      },
      "execution_count": null,
      "outputs": []
    },
    {
      "cell_type": "code",
      "source": [
        "# plot baseeline validation loss\n",
        "plot_experiment_history([base_loss], label_list = ['baseline'])\n",
        "\n",
        "# plot training and validation losses for experiment 4 models\n",
        "plot_experiment_history([tradeofff_loss], label_list = ['tradeoff'])\n",
        "\n",
        "# format plot\n",
        "plt.xlim(1, tradeoff_num_epoch)\n",
        "plt.xticks(range(0, tradeoff_num_epoch, 2))\n",
        "plt.legend(fontsize='small')\n",
        "plt.grid()\n",
        "\n",
        "# save plot\n",
        "#plt.savefig(\"/content/CAE-MNIST/outputs/experiment_4_files/experiment_4_image_loss.png\")\n",
        "plt.show()"
      ],
      "metadata": {
        "colab": {
          "base_uri": "https://localhost:8080/",
          "height": 453
        },
        "id": "6Rd7WM0mKeo2",
        "outputId": "8b90562d-2405-4991-fc8c-e739e392788f"
      },
      "execution_count": null,
      "outputs": [
        {
          "output_type": "display_data",
          "data": {
            "text/plain": [
              "<Figure size 640x480 with 1 Axes>"
            ],
            "image/png": "[encoded data removed]"
          },
          "metadata": {}
        }
      ]
    },
    {
      "cell_type": "code",
      "source": [
        "#manually add and push experiment 4 loss curve image to Git repository\n",
        "!git -C /content/CAE-MNIST add outputs/experiment_4_files/experiment_4_image_loss.png\n",
        "!git -C /content/CAE-MNIST commit -m \"Add experiment 4 loss history curve\"\n",
        "!git -C /content/CAE-MNIST push origin main"
      ],
      "metadata": {
        "id": "DGsp6iwNuQKQ",
        "outputId": "7f73f9f8-3402-4bf4-a9ef-b638f146ba0f",
        "colab": {
          "base_uri": "https://localhost:8080/"
        }
      },
      "execution_count": null,
      "outputs": [
        {
          "output_type": "stream",
          "name": "stdout",
          "text": [
            "[main a2a65dd] Add experiment 4 loss history curve\n",
            " 1 file changed, 0 insertions(+), 0 deletions(-)\n",
            " create mode 100644 outputs/experiment_4_files/experiment_4_image_loss.png\n",
            "Enumerating objects: 8, done.\n",
            "Counting objects: 100% (8/8), done.\n",
            "Delta compression using up to 2 threads\n",
            "Compressing objects: 100% (5/5), done.\n",
            "Writing objects: 100% (5/5), 58.76 KiB | 14.69 MiB/s, done.\n",
            "Total 5 (delta 3), reused 0 (delta 0), pack-reused 0\n",
            "remote: Resolving deltas: 100% (3/3), completed with 3 local objects.\u001b[K\n",
            "To https://github.com/vlad-uve/CAE-MNIST.git\n",
            "   59f5121..a2a65dd  main -> main\n"
          ]
        }
      ]
    },
    {
      "cell_type": "code",
      "source": [
        "#manually add and push experiment 4 loss curve image to Git repository\n",
        "!git -C /content/CAE-MNIST add outputs/experiment_4_files/experiment_4_image_loss.png\n",
        "!git -C /content/CAE-MNIST commit -m \"Add experiment 4 loss history curve\"\n",
        "!git -C /content/CAE-MNIST push origin main"
      ],
      "metadata": {
        "outputId": "7f73f9f8-3402-4bf4-a9ef-b638f146ba0f",
        "colab": {
          "base_uri": "https://localhost:8080/"
        },
        "id": "O_EPfl8LfJdA"
      },
      "execution_count": null,
      "outputs": [
        {
          "output_type": "stream",
          "name": "stdout",
          "text": [
            "[main a2a65dd] Add experiment 4 loss history curve\n",
            " 1 file changed, 0 insertions(+), 0 deletions(-)\n",
            " create mode 100644 outputs/experiment_4_files/experiment_4_image_loss.png\n",
            "Enumerating objects: 8, done.\n",
            "Counting objects: 100% (8/8), done.\n",
            "Delta compression using up to 2 threads\n",
            "Compressing objects: 100% (5/5), done.\n",
            "Writing objects: 100% (5/5), 58.76 KiB | 14.69 MiB/s, done.\n",
            "Total 5 (delta 3), reused 0 (delta 0), pack-reused 0\n",
            "remote: Resolving deltas: 100% (3/3), completed with 3 local objects.\u001b[K\n",
            "To https://github.com/vlad-uve/CAE-MNIST.git\n",
            "   59f5121..a2a65dd  main -> main\n"
          ]
        }
      ]
    },
    {
      "cell_type": "code",
      "source": [
        "# get sample images and labels\n",
        "sample_images, sample_labels = get_image_samples(tradeoff_validation_dataloader)\n",
        "\n",
        "# get reconstructed images from experiment 4\n",
        "tradeoff_reconstructions=get_experiment_reconstructions([tradeoff_model], sample_images, device)"
      ],
      "metadata": {
        "id": "ucACIXjaiS-5"
      },
      "execution_count": null,
      "outputs": []
    },
    {
      "cell_type": "code",
      "source": [
        "# display original benchmark images\n",
        "display(Image(filename='/content/CAE-MNIST/outputs/base_model_files/base_image_reconstruction.png'))\n",
        "print('\\n')\n",
        "\n",
        "# display reconstructions from experiment\n",
        "tradeoff_reconstruction_figures = plot_experiment_reconstructions(\n",
        "    tradeoff_reconstructions,\n",
        "    sample_labels,\n",
        "    title_list=['Tradeoff']\n",
        "    )\n",
        "\n",
        "#for idx, fig in enumerate(tradeoff_reconstruction_figures):\n",
        "  #fig.savefig(f\"/content/CAE-MNIST/outputs/experiment_4_files/experiment_4_image_reconstruction_{idx+1}.png\")"
      ],
      "metadata": {
        "colab": {
          "base_uri": "https://localhost:8080/",
          "height": 508
        },
        "id": "d5_6dIMfY94N",
        "outputId": "e8ff946d-8d7f-4b15-b9d6-88d7681dc28b",
        "collapsed": true
      },
      "execution_count": null,
      "outputs": [
        {
          "output_type": "display_data",
          "data": {
            "image/png": "[encoded data removed]",
            "text/plain": [
              "<IPython.core.display.Image object>"
            ]
          },
          "metadata": {}
        },
        {
          "output_type": "stream",
          "name": "stdout",
          "text": [
            "\n",
            "\n"
          ]
        },
        {
          "output_type": "display_data",
          "data": {
            "text/plain": [
              "<Figure size 1500x300 with 10 Axes>"
            ],
            "image/png": "[encoded data removed]"
          },
          "metadata": {}
        },
        {
          "output_type": "stream",
          "name": "stdout",
          "text": [
            "\n",
            " \n"
          ]
        }
      ]
    },
    {
      "cell_type": "code",
      "source": [
        "# Local (temporary) export folder\n",
        "local_export_folder = '/content/CAE_tradeoff_model_local'\n",
        "os.makedirs(local_export_folder, exist_ok=True)\n",
        "\n",
        "# Save model weights\n",
        "torch.save(tradeoff_model.state_dict(), os.path.join(local_export_folder, 'tradeoff_model.pth'))\n",
        "\n",
        "# Save loss history\n",
        "torch.save(tradeoff_loss, os.path.join(local_export_folder, 'tradeoff_loss.pth'))\n",
        "\n",
        "# Save description\n",
        "with open(os.path.join(local_export_folder, 'tradeoff_description.txt'), 'w') as f:\n",
        "    f.write(tradeoff_model_description.strip())"
      ],
      "metadata": {
        "id": "0hcd0pkChoFC"
      },
      "execution_count": null,
      "outputs": []
    },
    {
      "cell_type": "code",
      "source": [
        "# Paths\n",
        "local_export_folder = '/content/CAE_tradeoff_model_local'\n",
        "git_output_folder = '/content/CAE-MNIST/outputs/tradeoff_model_files'\n",
        "files_to_copy = ['tradeoff_model.pth', 'tradeoff_loss.pth', 'tradeoff_description.txt']\n",
        "\n",
        "# Copy all files to Git outputs folder (overwrite silently)\n",
        "os.makedirs(git_output_folder, exist_ok=True)\n",
        "for file in files_to_copy:\n",
        "    shutil.copy2(os.path.join(local_export_folder, file),\n",
        "                 os.path.join(git_output_folder, file))\n",
        "\n",
        "# Commit and push\n",
        "%cd /content/CAE-MNIST\n",
        "!git add outputs/tradeoff_model_files/*\n",
        "!git commit -m \"Update tradeoff model files\"\n",
        "!git push origin main"
      ],
      "metadata": {
        "colab": {
          "base_uri": "https://localhost:8080/"
        },
        "id": "4zEYHgznhse6",
        "outputId": "79fd24e5-9afa-43fb-e9ba-3f573a65e230"
      },
      "execution_count": null,
      "outputs": [
        {
          "output_type": "stream",
          "name": "stdout",
          "text": [
            "/content/CAE-MNIST\n",
            "fatal: not a git repository (or any of the parent directories): .git\n",
            "fatal: not a git repository (or any of the parent directories): .git\n",
            "fatal: not a git repository (or any of the parent directories): .git\n"
          ]
        }
      ]
    },
    {
      "cell_type": "markdown",
      "source": [
        "## Re-Clone Git Repository"
      ],
      "metadata": {
        "id": "ifiv72tLkAXQ"
      }
    },
    {
      "cell_type": "code",
      "source": [
        "!rm -rf /content/CAE-MNIST\n",
        "!git clone {repo_url}"
      ],
      "metadata": {
        "colab": {
          "base_uri": "https://localhost:8080/"
        },
        "id": "wJBAZVzwj_yd",
        "outputId": "baec9e76-6b75-43d9-9c1a-98985b10925d"
      },
      "execution_count": null,
      "outputs": [
        {
          "output_type": "stream",
          "name": "stdout",
          "text": [
            "shell-init: error retrieving current directory: getcwd: cannot access parent directories: No such file or directory\n",
            "fatal: could not create work tree dir 'CAE-MNIST': No such file or directory\n"
          ]
        }
      ]
    }
  ]
}