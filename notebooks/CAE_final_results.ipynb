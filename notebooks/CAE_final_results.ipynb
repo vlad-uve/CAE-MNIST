{
  "nbformat": 4,
  "nbformat_minor": 0,
  "metadata": {
    "colab": {
      "provenance": [],
      "collapsed_sections": [
        "jr7CzznwY7mv",
        "URr_R8KIh6qE",
        "I31F3xBG-dzx"
      ],
      "authorship_tag": "ABX9TyPhTKMXdPCLCAl0kDD1x20N",
      "include_colab_link": true
    },
    "kernelspec": {
      "name": "python3",
      "display_name": "Python 3"
    },
    "language_info": {
      "name": "python"
    }
  },
  "cells": [
    {
      "cell_type": "markdown",
      "metadata": {
        "id": "view-in-github",
        "colab_type": "text"
      },
      "source": [
        "<a href=\"https://colab.research.google.com/github/vlad-uve/CAE-MNIST/blob/main/notebooks/CAE_final_results.ipynb\" target=\"_parent\"><img src=\"https://colab.research.google.com/assets/colab-badge.svg\" alt=\"Open In Colab\"/></a>"
      ]
    },
    {
      "cell_type": "markdown",
      "source": [
        "# 📊 CAE Final Results — Parameter Count Comparison\n",
        "\n",
        "This notebook aggregates and visualizes the total number of trainable parameters for all Convolutional Autoencoder (CAE) models developed throughout the MNIST reconstruction experiments.\n",
        "\n",
        "This helps justify the selection of the **trade-off model**, which was designed to balance reconstruction performance and computational efficiency.\n"
      ],
      "metadata": {
        "id": "p_MQTJ0bBLCX"
      }
    },
    {
      "cell_type": "markdown",
      "source": [
        "## 1. 🔧 Setup"
      ],
      "metadata": {
        "id": "jr7CzznwY7mv"
      }
    },
    {
      "cell_type": "code",
      "source": [
        "from getpass import getpass\n",
        "\n",
        "# get repo url\n",
        "token = getpass(\"Paste your GitHub token\")\n",
        "user_name = 'vlad-uve'\n",
        "repo_name = 'CAE-MNIST'\n",
        "repo_url = f\"https://{token}@github.com/{user_name}/{repo_name}.git\"\n",
        "\n",
        "# clone the repo\n",
        "!git config --global user.email \"vladislav.yushkevich.uve@gmail.com\"\n",
        "!git config --global user.name \"vlad_uve\"\n",
        "!git clone {repo_url}\n",
        "\n",
        "# append system path\n",
        "import sys\n",
        "sys.path.append('/content/CAE-MNIST')"
      ],
      "metadata": {
        "colab": {
          "base_uri": "https://localhost:8080/"
        },
        "id": "fdWeFlZeUViW",
        "outputId": "a70cdda7-8551-4ad4-bc32-0e47d7f2c05a"
      },
      "execution_count": 1,
      "outputs": [
        {
          "output_type": "stream",
          "name": "stdout",
          "text": [
            "Paste your GitHub token··········\n",
            "Cloning into 'CAE-MNIST'...\n",
            "remote: Enumerating objects: 1012, done.\u001b[K\n",
            "remote: Counting objects: 100% (134/134), done.\u001b[K\n",
            "remote: Compressing objects: 100% (90/90), done.\u001b[K\n",
            "remote: Total 1012 (delta 85), reused 70 (delta 44), pack-reused 878 (from 1)\u001b[K\n",
            "Receiving objects: 100% (1012/1012), 26.60 MiB | 24.99 MiB/s, done.\n",
            "Resolving deltas: 100% (559/559), done.\n"
          ]
        }
      ]
    },
    {
      "cell_type": "code",
      "execution_count": 6,
      "metadata": {
        "id": "QDlPz8edehwE"
      },
      "outputs": [],
      "source": [
        "# OS utilities\n",
        "import os\n",
        "\n",
        "# PyTorch\n",
        "import torch\n",
        "\n",
        "# Plotting\n",
        "import matplotlib.pyplot as plt"
      ]
    },
    {
      "cell_type": "markdown",
      "source": [
        "## 2. 📥 Import Parameter Count Files"
      ],
      "metadata": {
        "id": "URr_R8KIh6qE"
      }
    },
    {
      "cell_type": "code",
      "source": [
        "# Directory to search\n",
        "base_path = \"/content/CAE-MNIST\"\n",
        "found_param_files = []\n",
        "\n",
        "# Traverse and collect file paths ending with 'param_counts.pth'\n",
        "for root, dirs, files in os.walk(base_path):\n",
        "    for file in files:\n",
        "        if file.endswith(\"param_counts.pth\"):\n",
        "            found_param_files.append(os.path.join(root, file))\n",
        "\n",
        "# Display found files\n",
        "for path in found_param_files:\n",
        "    print(path)"
      ],
      "metadata": {
        "colab": {
          "base_uri": "https://localhost:8080/"
        },
        "id": "RIPgJH6Jh_Pr",
        "outputId": "9a41d1bd-610c-4726-e448-2e3dd24ab32a"
      },
      "execution_count": 4,
      "outputs": [
        {
          "output_type": "stream",
          "name": "stdout",
          "text": [
            "/content/CAE-MNIST/outputs/experiment_3_files/experiment_3_param_counts.pth\n",
            "/content/CAE-MNIST/outputs/base_model_files/base_param_counts.pth\n",
            "/content/CAE-MNIST/outputs/tradeoff_model_files/tradeoff_param_counts.pth\n",
            "/content/CAE-MNIST/outputs/experiment_5_files/experiment_5_param_counts.pth\n",
            "/content/CAE-MNIST/outputs/experiment_4_files/experiment_4_param_counts.pth\n",
            "/content/CAE-MNIST/outputs/experiment_1_files/experiment_1_param_counts.pth\n",
            "/content/CAE-MNIST/outputs/experiment_2_files/experiment_2_param_counts.pth\n"
          ]
        }
      ]
    },
    {
      "cell_type": "code",
      "source": [
        "# Load parameter count dictionaries into a list\n",
        "param_counts_list=[]\n",
        "\n",
        "for path in found_param_files:\n",
        "    file = torch.load(f'{path}')\n",
        "    param_counts_list.append(file)\n",
        "\n",
        "\n",
        "param_counts_list"
      ],
      "metadata": {
        "id": "h21mk4U9ix1H",
        "colab": {
          "base_uri": "https://localhost:8080/"
        },
        "outputId": "19a21371-c381-4e14-cc3a-c3e5e23a487e"
      },
      "execution_count": 13,
      "outputs": [
        {
          "output_type": "execute_result",
          "data": {
            "text/plain": [
              "[{'experiment_3_model_1': 137825},\n",
              " {'base_model': 137441},\n",
              " {'tradeoff_model': 85649},\n",
              " {'experiment_5_model_1': 137441,\n",
              "  'experiment_5_model_2': 137441,\n",
              "  'experiment_5_model_3': 137441},\n",
              " {'experiment_4_model_1': 190049, 'experiment_4_model_2': 135841},\n",
              " {'experiment_1_model_1': 68769, 'experiment_1_model_2': 347489},\n",
              " {'experiment_2_model_1': 75971,\n",
              "  'experiment_2_model_2': 88265,\n",
              "  'experiment_2_model_3': 203009}]"
            ]
          },
          "metadata": {},
          "execution_count": 13
        }
      ]
    },
    {
      "cell_type": "markdown",
      "source": [
        "## 3. 📊 Plotting Parameter Counts"
      ],
      "metadata": {
        "id": "I31F3xBG-dzx"
      }
    },
    {
      "cell_type": "code",
      "source": [
        "# Prepare color mappings for each experiment\n",
        "color_map = {}\n",
        "palette = plt.get_cmap('tab20').colors\n",
        "colors_by_experiment = {\n",
        "    'experiment_1': palette[0],\n",
        "    'experiment_2': palette[1],\n",
        "    'experiment_3': palette[2],\n",
        "    'experiment_4': palette[3],\n",
        "    'experiment_5': palette[4],\n",
        "    'base_model': palette[6],\n",
        "    'tradeoff_model' : palette[8]\n",
        "}\n",
        "\n",
        "# Flatten into one dictionary with experiment labels\n",
        "flat_dict = {}\n",
        "for d in param_counts_list:\n",
        "    for k, v in d.items():\n",
        "        flat_dict[k] = v\n",
        "        exp_key = k.split('_')[0] + '_' + k.split('_')[1]  # e.g., \"experiment_1\"\n",
        "        color_map[k] = colors_by_experiment.get(exp_key, 'gray')\n",
        "\n",
        "# Sort models by parameter count\n",
        "sorted_items = sorted(flat_dict.items(), key=lambda item: item[1])\n",
        "model_names, param_counts = zip(*sorted_items)\n",
        "bar_colors = [color_map[name] for name in model_names]"
      ],
      "metadata": {
        "id": "aw0XcjwwkGKl"
      },
      "execution_count": 17,
      "outputs": []
    },
    {
      "cell_type": "code",
      "source": [
        "# Create directory for the notbook's outputs\n",
        "output_dir = '/content/CAE-MNIST/outputs/final_results_files'\n",
        "\n",
        "if not os.path.exists(output_dir):\n",
        "    os.makedirs(output_dir)\n",
        "    print(f\"✅ Directory created at: {output_dir}\")\n",
        "else:\n",
        "    print(f\"📁 Directory already exists at: {output_dir}\")"
      ],
      "metadata": {
        "colab": {
          "base_uri": "https://localhost:8080/"
        },
        "id": "BIEcUUBW_Xp_",
        "outputId": "b0926e71-b3f0-49ee-d7ac-00749b2a2ef3"
      },
      "execution_count": 21,
      "outputs": [
        {
          "output_type": "stream",
          "name": "stdout",
          "text": [
            "✅ Directory created at: /content/CAE-MNIST/outputs/final_results_files\n"
          ]
        }
      ]
    },
    {
      "cell_type": "code",
      "source": [
        "# 📈 Create bar chart\n",
        "plt.figure(figsize=(12, 6))\n",
        "plt.bar(model_names, param_counts, color=bar_colors)\n",
        "\n",
        "# Format plot\n",
        "plt.ylabel('Parameter Count')\n",
        "plt.title('Sorted Parameter Count by Model')\n",
        "plt.xticks(rotation=45, ha='right')\n",
        "plt.tight_layout()\n",
        "\n",
        "# Save plot\n",
        "plt.savefig('/content/CAE-MNIST/outputs/final_results_files/all_param_counts_image.png')\n",
        "plt.show()"
      ],
      "metadata": {
        "colab": {
          "base_uri": "https://localhost:8080/",
          "height": 607
        },
        "id": "tsGe6Bhe-tPX",
        "outputId": "da468260-61bf-4a27-bf2b-a334eca0c8ee"
      },
      "execution_count": 22,
      "outputs": [
        {
          "output_type": "display_data",
          "data": {
            "text/plain": [
              "<Figure size 1200x600 with 1 Axes>"
            ],
            "image/png": "[encoded data removed]"
          },
          "metadata": {}
        }
      ]
    },
    {
      "cell_type": "code",
      "source": [
        "# Push the bar chart image to GitHub\n",
        "!git -C /content/CAE-MNIST add outputs/final_results_files/all_param_counts_image.png\n",
        "!git -C /content/CAE-MNIST commit -m \"Created bar plot image of all modeld param counts\"\n",
        "!git -C /content/CAE-MNIST push origin main"
      ],
      "metadata": {
        "colab": {
          "base_uri": "https://localhost:8080/"
        },
        "id": "qPRe-zv_-0BA",
        "outputId": "84eb29e3-3a18-4a2a-f8b9-a7f61015e07d"
      },
      "execution_count": 23,
      "outputs": [
        {
          "output_type": "stream",
          "name": "stdout",
          "text": [
            "[main ec36ae4] Created bar plot image of all modeld param counts\n",
            " 1 file changed, 0 insertions(+), 0 deletions(-)\n",
            " create mode 100644 outputs/final_results_files/all_param_counts_image.png\n",
            "Enumerating objects: 7, done.\n",
            "Counting objects: 100% (7/7), done.\n",
            "Delta compression using up to 2 threads\n",
            "Compressing objects: 100% (5/5), done.\n",
            "Writing objects: 100% (5/5), 31.09 KiB | 15.54 MiB/s, done.\n",
            "Total 5 (delta 2), reused 0 (delta 0), pack-reused 0\n",
            "remote: Resolving deltas: 100% (2/2), completed with 2 local objects.\u001b[K\n",
            "To https://github.com/vlad-uve/CAE-MNIST.git\n",
            "   42ec106..ec36ae4  main -> main\n"
          ]
        }
      ]
    }
  ]
}